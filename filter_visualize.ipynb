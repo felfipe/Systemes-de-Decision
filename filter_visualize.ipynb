{
 "cells": [
  {
   "cell_type": "code",
   "execution_count": null,
   "metadata": {},
   "outputs": [],
   "source": [
    "import json\n",
    "import numpy as np\n",
    "import utils"
   ]
  },
  {
   "cell_type": "markdown",
   "metadata": {},
   "source": [
    "### Get non-dominated solutions"
   ]
  },
  {
   "cell_type": "code",
   "execution_count": null,
   "metadata": {},
   "outputs": [],
   "source": [
    "toy_solutions = utils.load_output(\"solutions/toy_instance_solution.json.gz\")\n",
    "\n",
    "# medium_solutions = utils.load_output(\"solutions/medium_instance_solution.json.gz\")\n",
    "\n",
    "# large_solutions = utils.load_output(\"solutions/large_instance_solution.json.gz\")"
   ]
  },
  {
   "cell_type": "code",
   "execution_count": null,
   "metadata": {},
   "outputs": [],
   "source": [
    "solutions = utils.filter_solutions(toy_solutions)\n",
    "\n",
    "# solutions = utils.filter_solutions(medium_solutions)\n",
    "\n",
    "# solutions = utils.filter_solutions(large_solutions)"
   ]
  },
  {
   "cell_type": "markdown",
   "metadata": {},
   "source": [
    "### Visualization"
   ]
  },
  {
   "cell_type": "code",
   "execution_count": null,
   "metadata": {},
   "outputs": [],
   "source": [
    "# f1, f2, f3 space\n",
    "utils.plot_obj_values(solutions)"
   ]
  },
  {
   "cell_type": "code",
   "execution_count": null,
   "metadata": {},
   "outputs": [],
   "source": [
    "# planning plot\n",
    "best_f1_solution = min(solutions, key=lambda solution: solution.f1)\n",
    "\n",
    "utils.plot_solution(best_f1_solution)"
   ]
  }
 ],
 "metadata": {
  "kernelspec": {
   "display_name": "py310",
   "language": "python",
   "name": "python3"
  },
  "language_info": {
   "codemirror_mode": {
    "name": "ipython",
    "version": 3
   },
   "file_extension": ".py",
   "mimetype": "text/x-python",
   "name": "python",
   "nbconvert_exporter": "python",
   "pygments_lexer": "ipython3",
   "version": "3.10.8"
  },
  "orig_nbformat": 4,
  "vscode": {
   "interpreter": {
    "hash": "0380e8b9cc4f2534195d8b4071814445382fb7ed063551c2ec32bdd8081ce85f"
   }
  }
 },
 "nbformat": 4,
 "nbformat_minor": 2
}
