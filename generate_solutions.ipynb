{
 "cells": [
  {
   "cell_type": "code",
   "execution_count": 1,
   "metadata": {},
   "outputs": [],
   "source": [
    "import utils\n",
    "from gurobipy import Model, GRB"
   ]
  },
  {
   "attachments": {},
   "cell_type": "markdown",
   "metadata": {},
   "source": [
    "### Get and save solutions"
   ]
  },
  {
   "cell_type": "code",
   "execution_count": 4,
   "metadata": {},
   "outputs": [],
   "source": [
    "def get_solutions(path: str):\n",
    "    print('Loading instance...')\n",
    "    data = utils.Instance(path)\n",
    "    \n",
    "    # Parameters obtained through manual testing\n",
    "    m = data.model\n",
    "    # m.Params.Presolve = 2\n",
    "    # m.Params.MIPFocus = 3\n",
    "    # m.Params.Cuts = 3\n",
    "    \n",
    "    print('Preparing multi-scenario optimization...')\n",
    "\n",
    "    m.NumScenarios = (data.Nj+1)*(data.Np + 1)\n",
    "\n",
    "\n",
    "    c1 = m.addConstr(data.f2 == 0)\n",
    "    c2 = m.addConstr(data.f3 == 0)\n",
    "\n",
    "    for i in range(data.Nj+1):\n",
    "        for j in range(data.Np+1):\n",
    "            m.params.ScenarioNumber = i*(data.Np+1) + j\n",
    "            m.ScenNName = 'i = {}, j = {}'.format(i, j)\n",
    "            c1.ScenNRhs = j\n",
    "            c2.ScenNRhs = i\n",
    "\n",
    "    print(\"Starting optimzation...\")\n",
    "    \n",
    "    m.optimize()\n",
    "\n",
    "    print(\"Done.\")\n",
    "\n",
    "    m.remove(c1)\n",
    "    m.remove(c2)\n",
    "\n",
    "    return data.iter_solutions()\n"
   ]
  },
  {
   "cell_type": "code",
   "execution_count": null,
   "metadata": {},
   "outputs": [],
   "source": [
    "toy_solutions = get_solutions(\"instances/toy_instance.json\")\n",
    "utils.save_output(toy_solutions, \"solutions/toy_instance_solution.json.gz\")"
   ]
  },
  {
   "cell_type": "code",
   "execution_count": null,
   "metadata": {},
   "outputs": [],
   "source": [
    "medium_solutions = get_solutions(\"instances/medium_instance.json\")\n",
    "utils.save_output(medium_solutions, \"solutions/medium_instance_solution.json.gz\")"
   ]
  },
  {
   "cell_type": "code",
   "execution_count": null,
   "metadata": {},
   "outputs": [],
   "source": [
    "large_solutions = get_solutions(\"instances/large_instance.json\")\n",
    "utils.save_output(large_solutions, \"solutions/large_instance_solution.json.gz\")"
   ]
  }
 ],
 "metadata": {
  "kernelspec": {
   "display_name": "Python 3.10.9 64-bit",
   "language": "python",
   "name": "python3"
  },
  "language_info": {
   "codemirror_mode": {
    "name": "ipython",
    "version": 3
   },
   "file_extension": ".py",
   "mimetype": "text/x-python",
   "name": "python",
   "nbconvert_exporter": "python",
   "pygments_lexer": "ipython3",
   "version": "3.10.9"
  },
  "orig_nbformat": 4,
  "vscode": {
   "interpreter": {
    "hash": "e7370f93d1d0cde622a1f8e1c04877d8463912d04d973331ad4851f04de6915a"
   }
  }
 },
 "nbformat": 4,
 "nbformat_minor": 2
}
