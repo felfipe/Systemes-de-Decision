{
 "cells": [
  {
   "cell_type": "code",
   "execution_count": 6,
   "metadata": {},
   "outputs": [],
   "source": [
    "import json\n",
    "import numpy as np\n",
    "import gurobipy\n",
    "import utils\n",
    "from gurobipy import Model, GRB"
   ]
  },
  {
   "cell_type": "markdown",
   "metadata": {},
   "source": [
    "### Load model"
   ]
  },
  {
   "cell_type": "code",
   "execution_count": 7,
   "metadata": {},
   "outputs": [],
   "source": [
    "data_toy = utils.Instance('instances/toy_instance.json')\n",
    "\n",
    "#data_medium = utils.Instance('instances/medium_instance.json')\n",
    "\n",
    "# data_large = utils.Instance('instances/large_instance.json')"
   ]
  },
  {
   "cell_type": "markdown",
   "metadata": {},
   "source": [
    "### Get solutions"
   ]
  },
  {
   "cell_type": "code",
   "execution_count": 8,
   "metadata": {},
   "outputs": [],
   "source": [
    "def get_solutions(data : utils.Instance):\n",
    "    m = data.model\n",
    "    m.params.outputflag = 0\n",
    "    m.NumScenarios = (data.Nj+1)*(data.Np + 1)\n",
    "\n",
    "\n",
    "    c1 = m.addConstr(data.f2 == 0)\n",
    "    c2 = m.addConstr(data.f3 == 0)\n",
    "\n",
    "    for i in range(data.Nj+1):\n",
    "        for j in range(data.Np+1):\n",
    "            m.params.ScenarioNumber = i*(data.Np+1) + j\n",
    "            m.ScenNName = 'i = {}, j = {}'.format(i, j)\n",
    "            c1.ScenNRhs = j\n",
    "            c2.ScenNRhs = i\n",
    "\n",
    "    print(\"Starting optimzation...\")\n",
    "\n",
    "    m.setObjective(data.f1)\n",
    "    m.reset()\n",
    "    m.optimize()\n",
    "\n",
    "    print(\"done.\")\n",
    "\n",
    "    solutions = data.get_solutions()\n",
    "\n",
    "    m.remove(c1)\n",
    "    m.remove(c2)\n",
    "    return solutions"
   ]
  },
  {
   "cell_type": "code",
   "execution_count": null,
   "metadata": {},
   "outputs": [],
   "source": [
    "toy_solutions = get_solutions(data_toy)\n",
    "\n",
    "#medium_solutions = get_solutions(data_medium)\n",
    "\n",
    "#large_solutions = get_solutions(data_large)"
   ]
  },
  {
   "cell_type": "code",
   "execution_count": 5,
   "metadata": {},
   "outputs": [],
   "source": [
    "utils.save_output(toy_solutions, \"solutions/toy_instance_solution.json\")\n",
    "\n",
    "#utils.save_output(medium_solutions, \"solutions/medium_instance_solution.json\")\n",
    "\n",
    "# utils.save_output(large_solutions, \"solutions/large_instance_solution.json\")"
   ]
  }
 ],
 "metadata": {
  "kernelspec": {
   "display_name": "Python 3.10.9 64-bit",
   "language": "python",
   "name": "python3"
  },
  "language_info": {
   "codemirror_mode": {
    "name": "ipython",
    "version": 3
   },
   "file_extension": ".py",
   "mimetype": "text/x-python",
   "name": "python",
   "nbconvert_exporter": "python",
   "pygments_lexer": "ipython3",
   "version": "3.10.9"
  },
  "orig_nbformat": 4,
  "vscode": {
   "interpreter": {
    "hash": "e7370f93d1d0cde622a1f8e1c04877d8463912d04d973331ad4851f04de6915a"
   }
  }
 },
 "nbformat": 4,
 "nbformat_minor": 2
}
