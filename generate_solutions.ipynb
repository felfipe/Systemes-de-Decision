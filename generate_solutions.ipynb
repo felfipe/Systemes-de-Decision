{
 "cells": [
  {
   "cell_type": "code",
   "execution_count": null,
   "metadata": {},
   "outputs": [],
   "source": [
    "import utils\n",
    "from gurobipy import Model, GRB"
   ]
  },
  {
   "attachments": {},
   "cell_type": "markdown",
   "metadata": {},
   "source": [
    "### Get and save solutions"
   ]
  },
  {
   "cell_type": "code",
   "execution_count": null,
   "metadata": {},
   "outputs": [],
   "source": [
    "def get_solutions(path: str):\n",
    "    print('Loading instance...')\n",
    "    data = utils.Instance(path)\n",
    "    m = data.model\n",
    "    \n",
    "    print('Preparing multi-scenario optimization...')\n",
    "\n",
    "    m.NumScenarios = (data.Nj+1)*(data.Np + 1)\n",
    "\n",
    "    c1 = m.addConstr(data.f2 == 0)\n",
    "    c2 = m.addConstr(data.f3 == 0)\n",
    "\n",
    "    for i in range(data.Nj+1):\n",
    "        for j in range(data.Np+1):\n",
    "            m.params.ScenarioNumber = i*(data.Np+1) + j\n",
    "            m.ScenNName = 'i = {}, j = {}'.format(i, j)\n",
    "            c1.ScenNRhs = j\n",
    "            c2.ScenNRhs = i\n",
    "\n",
    "    print(\"Starting optimzation...\")\n",
    "\n",
    "    m.setObjective(data.f1)\n",
    "    m.reset()\n",
    "    m.optimize()\n",
    "\n",
    "    print(\"Done.\")\n",
    "\n",
    "    m.remove(c1)\n",
    "    m.remove(c2)\n",
    "\n",
    "    return data.iter_solutions()\n"
   ]
  },
  {
   "cell_type": "code",
   "execution_count": null,
   "metadata": {},
   "outputs": [],
   "source": [
    "toy_solutions = get_solutions(\"instances/toy_instance.json\")\n",
    "utils.save_output(toy_solutions, \"solutions/toy_instance_solution.json.gz\")"
   ]
  },
  {
   "cell_type": "code",
   "execution_count": null,
   "metadata": {},
   "outputs": [],
   "source": [
    "medium_solutions = get_solutions(\"instances/medium_instance.json\")\n",
    "utils.save_output(medium_solutions, \"solutions/medium_instance_solution.json.gz\")"
   ]
  },
  {
   "cell_type": "code",
   "execution_count": null,
   "metadata": {},
   "outputs": [],
   "source": [
    "large_solutions = get_solutions(\"instances/large_instance.json\")\n",
    "utils.save_output(large_solutions, \"solutions/large_instance_solution.json.gz\")"
   ]
  }
 ],
 "metadata": {
  "kernelspec": {
   "display_name": "py310",
   "language": "python",
   "name": "python3"
  },
  "language_info": {
   "codemirror_mode": {
    "name": "ipython",
    "version": 3
   },
   "file_extension": ".py",
   "mimetype": "text/x-python",
   "name": "python",
   "nbconvert_exporter": "python",
   "pygments_lexer": "ipython3",
   "version": "3.10.8"
  },
  "orig_nbformat": 4,
  "vscode": {
   "interpreter": {
    "hash": "0380e8b9cc4f2534195d8b4071814445382fb7ed063551c2ec32bdd8081ce85f"
   }
  }
 },
 "nbformat": 4,
 "nbformat_minor": 2
}
