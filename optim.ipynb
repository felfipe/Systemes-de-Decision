{
 "cells": [
  {
   "cell_type": "code",
   "execution_count": 1,
   "metadata": {},
   "outputs": [],
   "source": [
    "import json\n",
    "import numpy as np\n",
    "import gurobipy\n",
    "import utils\n",
    "from gurobipy import Model, GRB"
   ]
  },
  {
   "cell_type": "code",
   "execution_count": 2,
   "metadata": {},
   "outputs": [
    {
     "name": "stdout",
     "output_type": "stream",
     "text": [
      "Set parameter Username\n",
      "Academic license - for non-commercial use only - expires 2024-01-25\n"
     ]
    }
   ],
   "source": [
    "m, data = utils.create_model('instances/toy_instance.json')"
   ]
  },
  {
   "cell_type": "code",
   "execution_count": 3,
   "metadata": {},
   "outputs": [
    {
     "name": "stdout",
     "output_type": "stream",
     "text": [
      "Starting optimzation...\n",
      "done.\n"
     ]
    }
   ],
   "source": [
    "solutions = []\n",
    "m.params.outputflag = 0\n",
    "m.NumScenarios = (data.Nj+1)*(data.Nm*data.Np + 1)\n",
    "\n",
    "for i in range(data.Nj+1):\n",
    "    for j in range(data.Nm*data.Np+1):\n",
    "        m.params.ScenarioNumber = i*(data.Nm*data.Np+1) + j\n",
    "        m.ScenNName = 'i = {}, j = {}'.format(i, j)\n",
    "        data.f2.ScenNLB = data.f2.ScenNUB = j  # Set f2 == j\n",
    "        data.f3.ScenNLB = data.f3.ScenNUB = i  # Set f3 == i\n",
    "\n",
    "print(\"Starting optimzation...\")\n",
    "\n",
    "m.setObjective(data.f1)\n",
    "m.reset()\n",
    "m.optimize()\n",
    "\n",
    "print(\"done.\")\n",
    "\n",
    "for s in range(m.NumScenarios):\n",
    "    m.params.ScenarioNumber = s\n",
    "    solutions.append([m.ScenNObjVal, data.f2.ScenNX, data.f3.ScenNX])\n",
    "\n",
    "\n",
    "solutions = np.array(solutions)\n",
    "solutions = solutions.round().astype(int)"
   ]
  },
  {
   "cell_type": "code",
   "execution_count": 4,
   "metadata": {},
   "outputs": [],
   "source": [
    "filtered_solutions = []\n",
    "\n",
    "def dominate(s1, s2):\n",
    "    temp = s1 - s2\n",
    "    if max(temp) > 0 or min(temp) == 0:\n",
    "        return False\n",
    "    \n",
    "    return True\n",
    "\n",
    "for i in range(solutions.shape[0]):\n",
    "    non_dominated = True\n",
    "    for j in range(solutions.shape[0]):\n",
    "        if i == j:\n",
    "            continue\n",
    "        if dominate(solutions[j], solutions[i]):\n",
    "            non_dominated = False        \n",
    "            break\n",
    "    if non_dominated:\n",
    "        filtered_solutions.append(solutions[i])\n",
    "        \n",
    "filtered_solutions = np.array(filtered_solutions)\n",
    "    "
   ]
  },
  {
   "cell_type": "code",
   "execution_count": null,
   "metadata": {},
   "outputs": [],
   "source": [
    "utils.plot_obj_values(filtered_solutions)"
   ]
  },
  {
   "cell_type": "code",
   "execution_count": null,
   "metadata": {},
   "outputs": [],
   "source": [
    "utils.plot_solution(m, data)"
   ]
  }
 ],
 "metadata": {
  "kernelspec": {
   "display_name": "Python 3.10.9 64-bit",
   "language": "python",
   "name": "python3"
  },
  "language_info": {
   "codemirror_mode": {
    "name": "ipython",
    "version": 3
   },
   "file_extension": ".py",
   "mimetype": "text/x-python",
   "name": "python",
   "nbconvert_exporter": "python",
   "pygments_lexer": "ipython3",
   "version": "3.10.9"
  },
  "orig_nbformat": 4,
  "vscode": {
   "interpreter": {
    "hash": "e7370f93d1d0cde622a1f8e1c04877d8463912d04d973331ad4851f04de6915a"
   }
  }
 },
 "nbformat": 4,
 "nbformat_minor": 2
}
