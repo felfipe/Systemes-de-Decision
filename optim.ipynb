{
 "cells": [
  {
   "cell_type": "code",
   "execution_count": 1,
   "metadata": {},
   "outputs": [],
   "source": [
    "import json\n",
    "import numpy as np\n",
    "import gurobipy\n",
    "from gurobipy import Model, GRB"
   ]
  },
  {
   "cell_type": "code",
   "execution_count": 2,
   "metadata": {},
   "outputs": [],
   "source": [
    "with open('instances/toy_instance.json') as f:\n",
    "    instance = json.load(f)"
   ]
  },
  {
   "cell_type": "code",
   "execution_count": 3,
   "metadata": {},
   "outputs": [
    {
     "data": {
      "text/plain": [
       "{'horizon': 5,\n",
       " 'qualifications': ['A', 'B', 'C'],\n",
       " 'staff': [{'name': 'Olivia',\n",
       "   'qualifications': ['A', 'B', 'C'],\n",
       "   'vacations': []},\n",
       "  {'name': 'Liam', 'qualifications': ['A', 'B'], 'vacations': [1]},\n",
       "  {'name': 'Emma', 'qualifications': ['C'], 'vacations': [2]}],\n",
       " 'jobs': [{'name': 'Job1',\n",
       "   'gain': 20,\n",
       "   'due_date': 3,\n",
       "   'daily_penalty': 3,\n",
       "   'working_days_per_qualification': {'A': 1, 'B': 1, 'C': 1}},\n",
       "  {'name': 'Job2',\n",
       "   'gain': 15,\n",
       "   'due_date': 3,\n",
       "   'daily_penalty': 3,\n",
       "   'working_days_per_qualification': {'A': 1, 'B': 2}},\n",
       "  {'name': 'Job3',\n",
       "   'gain': 15,\n",
       "   'due_date': 4,\n",
       "   'daily_penalty': 3,\n",
       "   'working_days_per_qualification': {'A': 1, 'C': 2}},\n",
       "  {'name': 'Job4',\n",
       "   'gain': 20,\n",
       "   'due_date': 3,\n",
       "   'daily_penalty': 3,\n",
       "   'working_days_per_qualification': {'B': 2, 'C': 1}},\n",
       "  {'name': 'Job5',\n",
       "   'gain': 10,\n",
       "   'due_date': 5,\n",
       "   'daily_penalty': 3,\n",
       "   'working_days_per_qualification': {'C': 2}}]}"
      ]
     },
     "execution_count": 3,
     "metadata": {},
     "output_type": "execute_result"
    }
   ],
   "source": [
    "instance"
   ]
  },
  {
   "cell_type": "code",
   "execution_count": 4,
   "metadata": {},
   "outputs": [],
   "source": [
    "qualifications_set = set()\n",
    "for employee in instance['staff']:\n",
    "    qualifications_set |= set(employee['qualifications'])\n",
    "qualifications = sorted(qualifications_set)\n",
    "\n",
    "Nm = len(instance['staff'])\n",
    "Nc = len(qualifications)\n",
    "Np = len(instance['jobs'])\n",
    "Nj = instance['horizon']"
   ]
  },
  {
   "cell_type": "code",
   "execution_count": 5,
   "metadata": {},
   "outputs": [],
   "source": [
    "HasComp = np.zeros((Nm, Nc), dtype=np.int32)\n",
    "Conge = np.zeros((Nm, Nj), dtype=np.int32)\n",
    "NeedComp = np.zeros((Np, Nc), dtype=np.int32)\n",
    "Rev = np.zeros(Np, dtype=np.int32)\n",
    "Penalite = np.zeros(Np, dtype=np.int32)\n",
    "Deadline = np.zeros(Np, dtype=np.int32)\n",
    "\n",
    "for i, person in enumerate(instance['staff']):\n",
    "    for qualif in person['qualifications']:\n",
    "        k = qualifications.index(qualif)\n",
    "        HasComp[i, k] = 1\n",
    "    for vacation in person['vacations']:\n",
    "        Conge[i, vacation-1] = 1\n",
    "for j, job in enumerate(instance['jobs']):\n",
    "    for qualif, days in job['working_days_per_qualification'].items():\n",
    "        k = qualifications.index(qualif)\n",
    "        NeedComp[j, k] = days\n",
    "    Rev[j] = job['gain']\n",
    "    Penalite[j] = job['daily_penalty']\n",
    "    Deadline[j] = job['due_date']"
   ]
  },
  {
   "cell_type": "code",
   "execution_count": 6,
   "metadata": {},
   "outputs": [
    {
     "name": "stdout",
     "output_type": "stream",
     "text": [
      "Set parameter Username\n",
      "Academic license - for non-commercial use only - expires 2023-12-11\n"
     ]
    }
   ],
   "source": [
    "m = Model(\"CompuOpti\")\n",
    "\n",
    "# Variables de decision\n",
    "Travail = m.addMVar((Nm, Np, Nc, Nj), vtype=GRB.BINARY, name=\"Travail\")\n",
    "ATravail = m.addMVar((Np, Nj), vtype=GRB.BINARY, name=\"ATravail\")\n",
    "Realise = m.addMVar(Nj, vtype=GRB.BINARY, name='Realise')\n",
    "Debut = m.addMVar(Np, lb=0, ub=Nj-1, vtype=GRB.INTEGER, name='Debut')\n",
    "Fin = m.addMVar(Np, lb=0, ub=Nj-1, vtype=GRB.INTEGER, name='Fin')\n",
    "DureeMax = m.addVar(lb=0, ub=Nj, name='DureeMax')\n",
    "AffecteProj = m.addMVar((Nm, Np), vtype=GRB.BINARY, name='AffecteProj')\n",
    "\n",
    "Retard = Fin - Deadline\n",
    "\n",
    "\n",
    "# Contrainte de qualification\n",
    "for j in range(Np):\n",
    "    for l in range(Nj):\n",
    "        m.addConstr(Travail[:, j, :, l] <= HasComp)\n",
    "\n",
    "# Contrainte d’unicité de l’affectation\n",
    "for i in range(Nm):\n",
    "    for l in range(Nj):\n",
    "        m.addConstr(Travail[i, :, :, l].sum() <= 1)\n",
    "\n",
    "# Contrainte de congé\n",
    "for j in range(Np):\n",
    "    for k in range(Nc):\n",
    "        m.addConstr(Travail[:, j, k, :] <= 1 - Conge)\n",
    "\n",
    "# Contraintes d’unicité de la réalisation d’un projet et de couverture des qualifications\n",
    "for j in range(Np):\n",
    "    for k in range(Nc):\n",
    "        m.addConstr(Travail[:, j, k, :].sum() == Realise[j] * NeedComp[j, k])\n",
    "\n",
    "# Contraintes sur la variable ATravail\n",
    "for i in range(Nm):\n",
    "    for k in range(Nc):\n",
    "        m.addConstr(ATravail >= Travail[i, :, k, :])\n",
    "\n",
    "# Contraintes sur la variable AffectéPro\n",
    "for k in range(Nc):\n",
    "    for l in range(Nj):\n",
    "        m.addConstr(AffecteProj >= Travail[:, :, k, l])\n",
    "\n",
    "# Contraintes sur la durée d’un projet\n",
    "for l in range(Nj):\n",
    "    m.addConstr(Debut <= l * ATravail[:, l] + Nj * (1 - ATravail[:, l]))\n",
    "    m.addConstr(Fin >= l * ATravail[:, l])\n",
    "m.addConstr(DureeMax >= Fin - Debut + 1)\n",
    "\n",
    "# Fonctions objectifs\n",
    "f1 = -(Rev.T @ Realise - Penalite.T @ Retard)\n",
    "f2 = AffecteProj.sum()\n",
    "f3 = DureeMax * 1"
   ]
  },
  {
   "cell_type": "code",
   "execution_count": 7,
   "metadata": {},
   "outputs": [],
   "source": [
    "m.params.outputflag = 0\n",
    "m.setObjective(f1)\n",
    "m.optimize()"
   ]
  },
  {
   "cell_type": "code",
   "execution_count": 8,
   "metadata": {},
   "outputs": [
    {
     "data": {
      "text/plain": [
       "array(-94.)"
      ]
     },
     "execution_count": 8,
     "metadata": {},
     "output_type": "execute_result"
    }
   ],
   "source": [
    "f1.getValue()"
   ]
  },
  {
   "cell_type": "code",
   "execution_count": 9,
   "metadata": {},
   "outputs": [
    {
     "data": {
      "text/plain": [
       "array([[[[-0., -0., -0., -0., -0.],\n",
       "         [-0., -0., -0.,  1., -0.],\n",
       "         [-0., -0., -0., -0., -0.]],\n",
       "\n",
       "        [[ 1., -0., -0., -0., -0.],\n",
       "         [-0.,  1., -0., -0., -0.],\n",
       "         [ 0.,  0.,  0.,  0.,  0.]],\n",
       "\n",
       "        [[-0., -0., -0., -0., -0.],\n",
       "         [ 0.,  0.,  0.,  0.,  0.],\n",
       "         [-0., -0., -0., -0., -0.]],\n",
       "\n",
       "        [[ 0.,  0.,  0.,  0.,  0.],\n",
       "         [-0., -0.,  1., -0.,  0.],\n",
       "         [-0., -0., -0., -0., -0.]],\n",
       "\n",
       "        [[ 0.,  0.,  0.,  0.,  0.],\n",
       "         [ 0.,  0.,  0.,  0.,  0.],\n",
       "         [-0., -0., -0., -0., -0.]]],\n",
       "\n",
       "\n",
       "       [[[ 0., -0., -0.,  1., -0.],\n",
       "         [ 0., -0., -0., -0., -0.],\n",
       "         [ 0.,  0.,  0.,  0.,  0.]],\n",
       "\n",
       "        [[ 0., -0., -0., -0., -0.],\n",
       "         [ 0.,  1., -0., -0., -0.],\n",
       "         [ 0.,  0.,  0.,  0.,  0.]],\n",
       "\n",
       "        [[ 0., -0., -0., -0.,  1.],\n",
       "         [ 0.,  0.,  0.,  0.,  0.],\n",
       "         [ 0.,  0.,  0.,  0.,  0.]],\n",
       "\n",
       "        [[ 0.,  0.,  0.,  0.,  0.],\n",
       "         [ 0., -0.,  1., -0., -0.],\n",
       "         [ 0.,  0.,  0.,  0.,  0.]],\n",
       "\n",
       "        [[ 0.,  0.,  0.,  0.,  0.],\n",
       "         [ 0.,  0.,  0.,  0.,  0.],\n",
       "         [ 0.,  0.,  0.,  0.,  0.]]],\n",
       "\n",
       "\n",
       "       [[[ 0.,  0.,  0.,  0.,  0.],\n",
       "         [ 0.,  0.,  0.,  0.,  0.],\n",
       "         [-0.,  0., -0.,  1., -0.]],\n",
       "\n",
       "        [[ 0.,  0.,  0.,  0.,  0.],\n",
       "         [ 0.,  0.,  0.,  0.,  0.],\n",
       "         [ 0.,  0.,  0.,  0.,  0.]],\n",
       "\n",
       "        [[ 0.,  0.,  0.,  0.,  0.],\n",
       "         [ 0.,  0.,  0.,  0.,  0.],\n",
       "         [-0.,  0.,  1., -0.,  1.]],\n",
       "\n",
       "        [[ 0.,  0.,  0.,  0.,  0.],\n",
       "         [ 0.,  0.,  0.,  0.,  0.],\n",
       "         [ 1.,  0., -0., -0., -0.]],\n",
       "\n",
       "        [[ 0.,  0.,  0.,  0.,  0.],\n",
       "         [ 0.,  0.,  0.,  0.,  0.],\n",
       "         [-0.,  0., -0., -0., -0.]]]])"
      ]
     },
     "execution_count": 9,
     "metadata": {},
     "output_type": "execute_result"
    }
   ],
   "source": [
    "Travail.X"
   ]
  }
 ],
 "metadata": {
  "kernelspec": {
   "display_name": "py310",
   "language": "python",
   "name": "python3"
  },
  "language_info": {
   "codemirror_mode": {
    "name": "ipython",
    "version": 3
   },
   "file_extension": ".py",
   "mimetype": "text/x-python",
   "name": "python",
   "nbconvert_exporter": "python",
   "pygments_lexer": "ipython3",
   "version": "3.10.8"
  },
  "orig_nbformat": 4,
  "vscode": {
   "interpreter": {
    "hash": "0380e8b9cc4f2534195d8b4071814445382fb7ed063551c2ec32bdd8081ce85f"
   }
  }
 },
 "nbformat": 4,
 "nbformat_minor": 2
}
