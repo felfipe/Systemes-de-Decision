{
 "cells": [
  {
   "cell_type": "code",
   "execution_count": 1,
   "metadata": {},
   "outputs": [],
   "source": [
    "import json\n",
    "import numpy as np\n",
    "from gurobipy import Model, GRB"
   ]
  },
  {
   "cell_type": "code",
   "execution_count": 2,
   "metadata": {},
   "outputs": [],
   "source": [
    "with open('instances/toy_instance.json') as f:\n",
    "    instance = json.load(f)"
   ]
  },
  {
   "cell_type": "code",
   "execution_count": 3,
   "metadata": {},
   "outputs": [],
   "source": [
    "qualifications_set = set()\n",
    "for employee in instance['staff']:\n",
    "    qualifications_set |= set(employee['qualifications'])\n",
    "qualifications = sorted(qualifications_set)\n",
    "\n",
    "Nm = len(instance['staff'])\n",
    "Nc = len(qualifications)\n",
    "Np = len(instance['jobs'])\n",
    "Nj = instance['horizon']"
   ]
  },
  {
   "cell_type": "code",
   "execution_count": 4,
   "metadata": {},
   "outputs": [],
   "source": [
    "HasComp = np.zeros((Nm, Nc), dtype=np.int32)\n",
    "Conge = np.zeros((Nm, Nj), dtype=np.int32)\n",
    "NeedComp = np.zeros((Np, Nc), dtype=np.int32)\n",
    "Rev = np.zeros(Np, dtype=np.int32)\n",
    "Penalite = np.zeros(Np, dtype=np.int32)\n",
    "Deadline = np.zeros(Np, dtype=np.int32)\n",
    "\n",
    "for i, person in enumerate(instance['staff']):\n",
    "    for qualif in person['qualifications']:\n",
    "        k = qualifications.index(qualif)\n",
    "        HasComp[i, k] = 1\n",
    "    for vacation in person['vacations']:\n",
    "        Conge[i, vacation-1] = 1\n",
    "for j, job in enumerate(instance['jobs']):\n",
    "    for qualif, days in job['working_days_per_qualification'].items():\n",
    "        k = qualifications.index(qualif)\n",
    "        NeedComp[j, k] = days\n",
    "    Rev[j] = job['gain']\n",
    "    Penalite[j] = job['daily_penalty']\n",
    "    Deadline[j] = job['due_date']"
   ]
  },
  {
   "cell_type": "code",
   "execution_count": 5,
   "metadata": {},
   "outputs": [
    {
     "name": "stdout",
     "output_type": "stream",
     "text": [
      "Set parameter Username\n",
      "Academic license - for non-commercial use only - expires 2024-01-12\n"
     ]
    }
   ],
   "source": [
    "m = Model(\"CompuOpti\")\n",
    "\n",
    "# Variables de decision\n",
    "Travail = m.addMVar((Nm, Np, Nc, Nj), vtype=GRB.BINARY, name=\"Travail\")\n",
    "ATravail = m.addMVar((Np, Nj), vtype=GRB.BINARY, name=\"ATravail\")\n",
    "Realise = m.addMVar(Np, vtype=GRB.BINARY, name='Realise')\n",
    "Debut = m.addMVar(Np, lb=0, ub=Nj-1, vtype=GRB.INTEGER, name='Debut')\n",
    "Fin = m.addMVar(Np, lb=0, ub=Nj-1, vtype=GRB.INTEGER, name='Fin')\n",
    "DureeMax = m.addVar(lb=0, ub=Nj,vtype=GRB.INTEGER, name='DureeMax')\n",
    "AffecteProj = m.addMVar((Nm, Np), vtype=GRB.BINARY, name='AffecteProj')\n",
    "\n",
    "Retard = Fin - Deadline\n",
    "\n",
    "\n",
    "# Contrainte de qualification\n",
    "for j in range(Np):\n",
    "    for l in range(Nj):\n",
    "        m.addConstr(Travail[:, j, :, l] <= HasComp)\n",
    "\n",
    "# Contrainte d’unicité de l’affectation\n",
    "for i in range(Nm):\n",
    "    for l in range(Nj):\n",
    "        m.addConstr(Travail[i, :, :, l].sum() <= 1)\n",
    "\n",
    "# Contrainte de congé\n",
    "for j in range(Np):\n",
    "    for k in range(Nc):\n",
    "        m.addConstr(Travail[:, j, k, :] <= 1 - Conge)\n",
    "\n",
    "# Contraintes d’unicité de la réalisation d’un projet et de couverture des qualifications\n",
    "for j in range(Np):\n",
    "    for k in range(Nc):\n",
    "        m.addConstr(Travail[:, j, k, :].sum() == Realise[j] * NeedComp[j, k])\n",
    "\n",
    "# Contraintes sur la variable ATravail\n",
    "for i in range(Nm):\n",
    "    for k in range(Nc):\n",
    "        m.addConstr(ATravail >= Travail[i, :, k, :])\n",
    "\n",
    "# Contraintes sur la variable AffectéPro\n",
    "for k in range(Nc):\n",
    "    for l in range(Nj):\n",
    "        m.addConstr(AffecteProj >= Travail[:, :, k, l])\n",
    "\n",
    "# Contraintes sur la durée d’un projet\n",
    "for l in range(Nj):\n",
    "    m.addConstr(Debut <= l * ATravail[:, l] + Nj * (1 - ATravail[:, l]))\n",
    "    m.addConstr(Fin >= l * ATravail[:, l])\n",
    "m.addConstr(DureeMax >= Fin - Debut + 1)\n",
    "\n",
    "# Fonctions objectifs\n",
    "f1 = -(Rev.T @ Realise - Penalite.T @ Retard)\n",
    "f2 = AffecteProj.sum()\n",
    "f3 = DureeMax * 1"
   ]
  },
  {
   "cell_type": "code",
   "execution_count": 6,
   "metadata": {},
   "outputs": [
    {
     "name": "stdout",
     "output_type": "stream",
     "text": [
      "Gurobi Optimizer version 10.0.0 build v10.0.0rc2 (linux64)\n",
      "\n",
      "CPU model: Intel(R) Core(TM) i5-8259U CPU @ 2.30GHz, instruction set [SSE2|AVX|AVX2]\n",
      "Thread count: 4 physical cores, 8 logical processors, using up to 8 threads\n",
      "\n",
      "Optimize a model with 985 rows, 281 columns and 1920 nonzeros\n",
      "Model fingerprint: 0x30515724\n",
      "Variable types: 0 continuous, 281 integer (270 binary)\n",
      "Coefficient statistics:\n",
      "  Matrix range     [1e+00, 5e+00]\n",
      "  Objective range  [3e+00, 2e+01]\n",
      "  Bounds range     [1e+00, 5e+00]\n",
      "  RHS range        [1e+00, 5e+00]\n",
      "Found heuristic solution: objective -54.0000000\n",
      "Presolve removed 895 rows and 162 columns\n",
      "Presolve time: 0.00s\n",
      "Presolved: 90 rows, 119 columns, 362 nonzeros\n",
      "Variable types: 0 continuous, 119 integer (114 binary)\n",
      "\n",
      "Root relaxation: objective -1.164340e+02, 165 iterations, 0.00 seconds (0.00 work units)\n",
      "\n",
      "    Nodes    |    Current Node    |     Objective Bounds      |     Work\n",
      " Expl Unexpl |  Obj  Depth IntInf | Incumbent    BestBd   Gap | It/Node Time\n",
      "\n",
      "     0     0 -116.43396    0   57  -54.00000 -116.43396   116%     -    0s\n",
      "H    0     0                     -75.0000000 -116.43396  55.2%     -    0s\n",
      "H    0     0                     -82.0000000 -116.43396  42.0%     -    0s\n",
      "H    0     0                     -85.0000000 -116.43396  37.0%     -    0s\n",
      "H    0     0                     -91.0000000 -113.90564  25.2%     -    0s\n",
      "     0     0 -111.23333    0   71  -91.00000 -111.23333  22.2%     -    0s\n",
      "     0     0 -110.02154    0   69  -91.00000 -110.02154  20.9%     -    0s\n",
      "H    0     0                     -94.0000000 -109.91221  16.9%     -    0s\n",
      "     0     0 -107.79077    0   75  -94.00000 -107.79077  14.7%     -    0s\n",
      "     0     0 -106.97632    0   73  -94.00000 -106.97632  13.8%     -    0s\n",
      "     0     0 -106.93333    0   77  -94.00000 -106.93333  13.8%     -    0s\n",
      "     0     0 -106.90462    0   75  -94.00000 -106.90462  13.7%     -    0s\n",
      "     0     0 -106.42857    0   71  -94.00000 -106.42857  13.2%     -    0s\n",
      "     0     0 -106.38095    0   69  -94.00000 -106.38095  13.2%     -    0s\n",
      "     0     2 -106.38095    0   69  -94.00000 -106.38095  13.2%     -    0s\n",
      "\n",
      "Cutting planes:\n",
      "  Gomory: 4\n",
      "  Cover: 1\n",
      "  Implied bound: 4\n",
      "  MIR: 10\n",
      "  Zero half: 2\n",
      "  RLT: 6\n",
      "  Relax-and-lift: 12\n",
      "\n",
      "Explored 353 nodes (4989 simplex iterations) in 0.20 seconds (0.08 work units)\n",
      "Thread count was 8 (of 8 available processors)\n",
      "\n",
      "Solution count 6: -94 -91 -85 ... -54\n",
      "No other solutions better than -94\n",
      "\n",
      "Optimal solution found (tolerance 1.00e-04)\n",
      "Best objective -9.400000000000e+01, best bound -9.400000000000e+01, gap 0.0000%\n"
     ]
    }
   ],
   "source": [
    "m.params.outputflag = 1\n",
    "m.setObjective(f1, GRB.MINIMIZE)\n",
    "m.optimize()"
   ]
  },
  {
   "cell_type": "code",
   "execution_count": 11,
   "metadata": {},
   "outputs": [
    {
     "data": {
      "text/plain": [
       "array(15.)"
      ]
     },
     "execution_count": 11,
     "metadata": {},
     "output_type": "execute_result"
    }
   ],
   "source": [
    "AffecteProj.sum().getValue()"
   ]
  },
  {
   "cell_type": "code",
   "execution_count": 12,
   "metadata": {},
   "outputs": [],
   "source": [
    "f2_min = 0\n",
    "f2_max = 15"
   ]
  },
  {
   "cell_type": "code",
   "execution_count": 19,
   "metadata": {},
   "outputs": [],
   "source": [
    "def find_pareto_fixing_f2(f2_min, f2_max):\n",
    "    n = 4\n",
    "    step = int((f2_max - f2_min) / n)\n",
    "    steps = list(range(int(f2_min),int(f2_max),step)) + [f2_max]\n",
    "\n",
    "    x1 = []\n",
    "    for i in steps:\n",
    "        epsilon = i\n",
    "        m.params.outputflag = 0\n",
    "        m.setObjective(f1, GRB.MINIMIZE)\n",
    "        eps_constr = m.addConstr(f2 == epsilon)\n",
    "        m.optimize()\n",
    "        x1.append(None if not hasattr(m, 'ObjVal') else m.ObjVal)\n",
    "        m.remove(eps_constr)\n",
    "    return x1"
   ]
  },
  {
   "cell_type": "code",
   "execution_count": 20,
   "metadata": {},
   "outputs": [
    {
     "name": "stdout",
     "output_type": "stream",
     "text": [
      "[-54.0, -82.0, -91.0, -94.0, -94.0, -94.0]\n"
     ]
    }
   ],
   "source": [
    "print(find_pareto_fixing_f2(f2_min, f2_max))"
   ]
  }
 ],
 "metadata": {
  "kernelspec": {
   "display_name": "Python 3.10.8 64-bit",
   "language": "python",
   "name": "python3"
  },
  "language_info": {
   "codemirror_mode": {
    "name": "ipython",
    "version": 3
   },
   "file_extension": ".py",
   "mimetype": "text/x-python",
   "name": "python",
   "nbconvert_exporter": "python",
   "pygments_lexer": "ipython3",
   "version": "3.10.8"
  },
  "orig_nbformat": 4,
  "vscode": {
   "interpreter": {
    "hash": "e7370f93d1d0cde622a1f8e1c04877d8463912d04d973331ad4851f04de6915a"
   }
  }
 },
 "nbformat": 4,
 "nbformat_minor": 2
}
